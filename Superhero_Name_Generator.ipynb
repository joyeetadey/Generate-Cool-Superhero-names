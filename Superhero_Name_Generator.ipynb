{
  "nbformat": 4,
  "nbformat_minor": 0,
  "metadata": {
    "accelerator": "GPU",
    "colab": {
      "name": "Copy of Superhero Name Generator - Learner.ipynb",
      "provenance": [],
      "collapsed_sections": []
    },
    "kernelspec": {
      "display_name": "Python 3",
      "language": "python",
      "name": "python3"
    },
    "language_info": {
      "codemirror_mode": {
        "name": "ipython",
        "version": 3
      },
      "file_extension": ".py",
      "mimetype": "text/x-python",
      "name": "python",
      "nbconvert_exporter": "python",
      "pygments_lexer": "ipython3",
      "version": "3.8.3"
    }
  },
  "cells": [
    {
      "cell_type": "markdown",
      "metadata": {
        "id": "21XXWP7Fpt2L"
      },
      "source": [
        "# Superhero (and Supervillain) Name Generator\n",
        "\n",
        "---\n",
        "\n",
        "[Superhero Names Dataset](https://github.com/am1tyadav/superhero)"
      ]
    },
    {
      "cell_type": "markdown",
      "metadata": {
        "id": "H6P0NU5Cpt2R"
      },
      "source": [
        "## Task 2\n",
        "\n",
        "1. Import the data\n",
        "2. Create a tokenizer\n",
        "3. Char to index and Index to char dictionaries"
      ]
    },
    {
      "cell_type": "code",
      "metadata": {
        "colab": {
          "base_uri": "https://localhost:8080/"
        },
        "id": "srULhalZpt2M",
        "outputId": "5c3722bd-fdcd-470f-bee9-69bb23c699f3"
      },
      "source": [
        "!git clone https://github.com/am1tyadav/superhero"
      ],
      "execution_count": 25,
      "outputs": [
        {
          "output_type": "stream",
          "text": [
            "fatal: destination path 'superhero' already exists and is not an empty directory.\n"
          ],
          "name": "stdout"
        }
      ]
    },
    {
      "cell_type": "code",
      "metadata": {
        "colab": {
          "base_uri": "https://localhost:8080/",
          "height": 53
        },
        "id": "uq4CLmsLpt2P",
        "outputId": "129859d1-af2d-4cdd-884d-a5356f920dac"
      },
      "source": [
        "with open('superhero/superheroes.txt','r') as f:\n",
        "  data = f.read()\n",
        "\n",
        "data[:100]"
      ],
      "execution_count": 26,
      "outputs": [
        {
          "output_type": "execute_result",
          "data": {
            "application/vnd.google.colaboratory.intrinsic+json": {
              "type": "string"
            },
            "text/plain": [
              "'jumpa\\t\\ndoctor fate\\t\\nstarlight\\t\\nisildur\\t\\nlasher\\t\\nvarvara\\t\\nthe target\\t\\naxel\\t\\nbattra\\t\\nchangeling\\t\\npyrrh'"
            ]
          },
          "metadata": {
            "tags": []
          },
          "execution_count": 26
        }
      ]
    },
    {
      "cell_type": "code",
      "metadata": {
        "colab": {
          "base_uri": "https://localhost:8080/"
        },
        "id": "JqhtLuAHpt2R",
        "outputId": "6a6e5f64-40ea-4cf3-85bc-cd9cb0668b5e"
      },
      "source": [
        "import tensorflow as tf\n",
        "print(tf.__version__)"
      ],
      "execution_count": 27,
      "outputs": [
        {
          "output_type": "stream",
          "text": [
            "2.5.0\n"
          ],
          "name": "stdout"
        }
      ]
    },
    {
      "cell_type": "code",
      "metadata": {
        "id": "95Lo1Yqzpt2T"
      },
      "source": [
        "tokenizer = tf.keras.preprocessing.text.Tokenizer(\n",
        "    filters='!\"#$%&()*+,-./:;<=>?@[\\\\]^_`{|}~',\n",
        "    split='\\n',\n",
        ")"
      ],
      "execution_count": 28,
      "outputs": []
    },
    {
      "cell_type": "code",
      "metadata": {
        "id": "qYfC4sj2pt2V"
      },
      "source": [
        "tokenizer.fit_on_texts(data)"
      ],
      "execution_count": 29,
      "outputs": []
    },
    {
      "cell_type": "code",
      "metadata": {
        "colab": {
          "base_uri": "https://localhost:8080/"
        },
        "id": "EO4-dPM6pt2X",
        "outputId": "4f9a581a-0eeb-4109-d043-9dc381c35f18"
      },
      "source": [
        "char_to_index = tokenizer.word_index\n",
        "index_to_char = dict((v,k) for k,v in char_to_index.items())\n",
        "\n",
        "print(index_to_char)"
      ],
      "execution_count": 30,
      "outputs": [
        {
          "output_type": "stream",
          "text": [
            "{1: '\\t', 2: 'a', 3: 'e', 4: 'r', 5: 'o', 6: 'n', 7: 'i', 8: ' ', 9: 't', 10: 's', 11: 'l', 12: 'm', 13: 'h', 14: 'd', 15: 'c', 16: 'u', 17: 'g', 18: 'k', 19: 'b', 20: 'p', 21: 'y', 22: 'w', 23: 'f', 24: 'v', 25: 'j', 26: 'z', 27: 'x', 28: 'q'}\n"
          ],
          "name": "stdout"
        }
      ]
    },
    {
      "cell_type": "markdown",
      "metadata": {
        "id": "SMwtIw_Bpt2Z"
      },
      "source": [
        "## Task 3\n",
        "\n",
        "1. Converting between names and sequences"
      ]
    },
    {
      "cell_type": "code",
      "metadata": {
        "colab": {
          "base_uri": "https://localhost:8080/"
        },
        "id": "N7iQLIXzpt2a",
        "outputId": "4abfa732-f43b-437d-de51-59a6a4874861"
      },
      "source": [
        "names =data.splitlines()\n",
        "names[:10]"
      ],
      "execution_count": 31,
      "outputs": [
        {
          "output_type": "execute_result",
          "data": {
            "text/plain": [
              "['jumpa\\t',\n",
              " 'doctor fate\\t',\n",
              " 'starlight\\t',\n",
              " 'isildur\\t',\n",
              " 'lasher\\t',\n",
              " 'varvara\\t',\n",
              " 'the target\\t',\n",
              " 'axel\\t',\n",
              " 'battra\\t',\n",
              " 'changeling\\t']"
            ]
          },
          "metadata": {
            "tags": []
          },
          "execution_count": 31
        }
      ]
    },
    {
      "cell_type": "code",
      "metadata": {
        "colab": {
          "base_uri": "https://localhost:8080/"
        },
        "id": "n_-TTfqipt2c",
        "outputId": "1f63a96c-54c9-4516-8987-617ed6eba6dd"
      },
      "source": [
        "tokenizer.texts_to_sequences(names[0])"
      ],
      "execution_count": 32,
      "outputs": [
        {
          "output_type": "execute_result",
          "data": {
            "text/plain": [
              "[[25], [16], [12], [20], [2], [1]]"
            ]
          },
          "metadata": {
            "tags": []
          },
          "execution_count": 32
        }
      ]
    },
    {
      "cell_type": "code",
      "metadata": {
        "id": "P6IsKH1Upt2e"
      },
      "source": [
        "def name_to_seq(name):\n",
        "  return [tokenizer.texts_to_sequences(c)[0][0] for c in name]"
      ],
      "execution_count": 33,
      "outputs": []
    },
    {
      "cell_type": "code",
      "metadata": {
        "colab": {
          "base_uri": "https://localhost:8080/"
        },
        "id": "TuLUiMP3pt2g",
        "outputId": "8e6704ed-8ad2-4c97-c912-867e3d1da261"
      },
      "source": [
        "name_to_seq(names[0])"
      ],
      "execution_count": 34,
      "outputs": [
        {
          "output_type": "execute_result",
          "data": {
            "text/plain": [
              "[25, 16, 12, 20, 2, 1]"
            ]
          },
          "metadata": {
            "tags": []
          },
          "execution_count": 34
        }
      ]
    },
    {
      "cell_type": "code",
      "metadata": {
        "id": "yFUYhimKpt2h"
      },
      "source": [
        "def seq_to_name(seq):\n",
        "  return ''.join([index_to_char[i] for i in seq if i!=0])"
      ],
      "execution_count": 35,
      "outputs": []
    },
    {
      "cell_type": "code",
      "metadata": {
        "colab": {
          "base_uri": "https://localhost:8080/",
          "height": 35
        },
        "id": "ROhCqmhLpt2k",
        "outputId": "2e6a81c9-1c0b-44a5-c8c7-4b0b22e98d59"
      },
      "source": [
        "seq_to_name([25, 16, 12, 20, 2, 1])"
      ],
      "execution_count": 36,
      "outputs": [
        {
          "output_type": "execute_result",
          "data": {
            "application/vnd.google.colaboratory.intrinsic+json": {
              "type": "string"
            },
            "text/plain": [
              "'jumpa\\t'"
            ]
          },
          "metadata": {
            "tags": []
          },
          "execution_count": 36
        }
      ]
    },
    {
      "cell_type": "markdown",
      "metadata": {
        "id": "uCbAzsNjpt2m"
      },
      "source": [
        "## Task 4\n",
        "\n",
        "1. Creating sequences\n",
        "2. Padding all sequences"
      ]
    },
    {
      "cell_type": "code",
      "metadata": {
        "id": "zstNn-0dpt2m"
      },
      "source": [
        "sequences =[]\n",
        "for name in names:\n",
        "  seq = name_to_seq(name)\n",
        "  if(len(seq)>=2):\n",
        "    sequences += [seq[:i] for i in range(2, len(seq)+1)]"
      ],
      "execution_count": 37,
      "outputs": []
    },
    {
      "cell_type": "code",
      "metadata": {
        "colab": {
          "base_uri": "https://localhost:8080/"
        },
        "id": "BjRTMysvpt2o",
        "outputId": "c7ca166a-bbfa-47aa-ec44-98e22bb92723"
      },
      "source": [
        "sequences[:10]"
      ],
      "execution_count": 38,
      "outputs": [
        {
          "output_type": "execute_result",
          "data": {
            "text/plain": [
              "[[25, 16],\n",
              " [25, 16, 12],\n",
              " [25, 16, 12, 20],\n",
              " [25, 16, 12, 20, 2],\n",
              " [25, 16, 12, 20, 2, 1],\n",
              " [14, 5],\n",
              " [14, 5, 15],\n",
              " [14, 5, 15, 9],\n",
              " [14, 5, 15, 9, 5],\n",
              " [14, 5, 15, 9, 5, 4]]"
            ]
          },
          "metadata": {
            "tags": []
          },
          "execution_count": 38
        }
      ]
    },
    {
      "cell_type": "code",
      "metadata": {
        "id": "uTdianxpMqJ2",
        "colab": {
          "base_uri": "https://localhost:8080/"
        },
        "outputId": "fe176f50-c221-4264-84ee-404a044e3e64"
      },
      "source": [
        "max_len = max([len(x) for x in sequences])\n",
        "print(max_len)"
      ],
      "execution_count": 39,
      "outputs": [
        {
          "output_type": "stream",
          "text": [
            "33\n"
          ],
          "name": "stdout"
        }
      ]
    },
    {
      "cell_type": "code",
      "metadata": {
        "colab": {
          "base_uri": "https://localhost:8080/"
        },
        "id": "SR68pu2tpt2q",
        "outputId": "78effc45-1336-47eb-c56e-916a4089b903"
      },
      "source": [
        "padded_sequences = tf.keras.preprocessing.sequence.pad_sequences(\n",
        "    sequences, padding = 'pre',\n",
        "    maxlen = max_len\n",
        ")\n",
        "print(padded_sequences[0])"
      ],
      "execution_count": 40,
      "outputs": [
        {
          "output_type": "stream",
          "text": [
            "[ 0  0  0  0  0  0  0  0  0  0  0  0  0  0  0  0  0  0  0  0  0  0  0  0\n",
            "  0  0  0  0  0  0  0 25 16]\n"
          ],
          "name": "stdout"
        }
      ]
    },
    {
      "cell_type": "code",
      "metadata": {
        "colab": {
          "base_uri": "https://localhost:8080/"
        },
        "id": "h_1BtWO7pt2r",
        "outputId": "fb0bdeb1-ba93-4558-e29d-c82d09d99682"
      },
      "source": [
        "padded_sequences.shape"
      ],
      "execution_count": 41,
      "outputs": [
        {
          "output_type": "execute_result",
          "data": {
            "text/plain": [
              "(88279, 33)"
            ]
          },
          "metadata": {
            "tags": []
          },
          "execution_count": 41
        }
      ]
    },
    {
      "cell_type": "markdown",
      "metadata": {
        "id": "gKI6EZCtJkG8"
      },
      "source": [
        "## Task 5: Creating Training and Validation Sets\n",
        "\n",
        "1. Creating training and validation sets"
      ]
    },
    {
      "cell_type": "code",
      "metadata": {
        "colab": {
          "base_uri": "https://localhost:8080/"
        },
        "id": "BE4BIeSnpt2v",
        "outputId": "7bd6aa24-8c0a-4de7-df5b-2ec91fbf8fcf"
      },
      "source": [
        "x, y = padded_sequences[:, :-1], padded_sequences[:,-1]\n",
        "print(x.shape, y.shape)"
      ],
      "execution_count": 42,
      "outputs": [
        {
          "output_type": "stream",
          "text": [
            "(88279, 32) (88279,)\n"
          ],
          "name": "stdout"
        }
      ]
    },
    {
      "cell_type": "code",
      "metadata": {
        "id": "7B_cdwBvJkG8",
        "colab": {
          "base_uri": "https://localhost:8080/"
        },
        "outputId": "bf791088-8f21-4dd9-d121-eb644cc36bb6"
      },
      "source": [
        "from sklearn.model_selection import train_test_split\n",
        "x_train, x_test, y_train, y_test = train_test_split(x,y)\n",
        "print(x_train.shape, y_train.shape)\n",
        "print(x_test.shape, y_test.shape)"
      ],
      "execution_count": 43,
      "outputs": [
        {
          "output_type": "stream",
          "text": [
            "(66209, 32) (66209,)\n",
            "(22070, 32) (22070,)\n"
          ],
          "name": "stdout"
        }
      ]
    },
    {
      "cell_type": "code",
      "metadata": {
        "colab": {
          "base_uri": "https://localhost:8080/"
        },
        "id": "cgqRZtqnpt2x",
        "outputId": "06a830ef-6289-495d-dc31-eb9c90b5559f"
      },
      "source": [
        "num_chars = len(char_to_index.keys())+1\n",
        "print(num_chars)"
      ],
      "execution_count": 44,
      "outputs": [
        {
          "output_type": "stream",
          "text": [
            "29\n"
          ],
          "name": "stdout"
        }
      ]
    },
    {
      "cell_type": "markdown",
      "metadata": {
        "id": "90KBi-40JkG8"
      },
      "source": [
        "## Task 6: Creating the Model"
      ]
    },
    {
      "cell_type": "code",
      "metadata": {
        "id": "gL7ysETQJkG8",
        "colab": {
          "base_uri": "https://localhost:8080/"
        },
        "outputId": "ca6ba8b1-1ae9-4535-aa31-918b6f9e5f8e"
      },
      "source": [
        "from tensorflow.keras.models import Sequential\n",
        "from tensorflow.keras.layers import Embedding, Conv1D, MaxPool1D, LSTM\n",
        "from tensorflow.keras.layers import Bidirectional, Dense, Dropout\n",
        "model = Sequential([\n",
        "                    Embedding(num_chars, 8, input_length = max_len-1),\n",
        "                    Dropout(0.2),\n",
        "                    Conv1D(64,5, strides=1, activation='tanh', padding='causal'),\n",
        "                    MaxPool1D(2),\n",
        "                    LSTM(32),\n",
        "                    Dense(num_chars, activation='softmax')\n",
        "\n",
        "])\n",
        "\n",
        "model.compile(\n",
        "    loss='sparse_categorical_crossentropy',\n",
        "    optimizer='adam',\n",
        "    metrics=['accuracy']\n",
        ")\n",
        "\n",
        "model.summary()"
      ],
      "execution_count": 45,
      "outputs": [
        {
          "output_type": "stream",
          "text": [
            "Model: \"sequential_1\"\n",
            "_________________________________________________________________\n",
            "Layer (type)                 Output Shape              Param #   \n",
            "=================================================================\n",
            "embedding_1 (Embedding)      (None, 32, 8)             232       \n",
            "_________________________________________________________________\n",
            "dropout_1 (Dropout)          (None, 32, 8)             0         \n",
            "_________________________________________________________________\n",
            "conv1d_1 (Conv1D)            (None, 32, 64)            2624      \n",
            "_________________________________________________________________\n",
            "max_pooling1d_1 (MaxPooling1 (None, 16, 64)            0         \n",
            "_________________________________________________________________\n",
            "lstm_1 (LSTM)                (None, 32)                12416     \n",
            "_________________________________________________________________\n",
            "dense_1 (Dense)              (None, 29)                957       \n",
            "=================================================================\n",
            "Total params: 16,229\n",
            "Trainable params: 16,229\n",
            "Non-trainable params: 0\n",
            "_________________________________________________________________\n"
          ],
          "name": "stdout"
        }
      ]
    },
    {
      "cell_type": "markdown",
      "metadata": {
        "id": "xhEHyX4XJkG8"
      },
      "source": [
        "\n",
        "## Task 7: Training the Model"
      ]
    },
    {
      "cell_type": "code",
      "metadata": {
        "colab": {
          "base_uri": "https://localhost:8080/"
        },
        "id": "j0Ssl4qupt22",
        "outputId": "514cf258-1b58-446f-e708-3b587f4ccc8e"
      },
      "source": [
        "h = model.fit(\n",
        "    x_train, y_train,\n",
        "    validation_data=(x_test, y_test),\n",
        "    epochs=50, verbose=2, batch_size=64,\n",
        "    callbacks=[\n",
        "               tf.keras.callbacks.EarlyStopping(monitor='val_accuracy', patience=3)\n",
        "    ]\n",
        ")\n",
        "\n",
        "# batch_size=1000\n",
        "# model.fit(x_train, y_train, batch_size=batch_size, epochs=20, validation_data=(x_test, y_train))\n"
      ],
      "execution_count": 22,
      "outputs": [
        {
          "output_type": "stream",
          "text": [
            "Epoch 1/50\n",
            "1035/1035 - 39s - loss: 2.8222 - accuracy: 0.1749 - val_loss: 2.6292 - val_accuracy: 0.2131\n",
            "Epoch 2/50\n",
            "1035/1035 - 5s - loss: 2.6088 - accuracy: 0.2195 - val_loss: 2.5558 - val_accuracy: 0.2301\n",
            "Epoch 3/50\n",
            "1035/1035 - 5s - loss: 2.5615 - accuracy: 0.2309 - val_loss: 2.5161 - val_accuracy: 0.2368\n",
            "Epoch 4/50\n",
            "1035/1035 - 5s - loss: 2.5292 - accuracy: 0.2375 - val_loss: 2.4831 - val_accuracy: 0.2409\n",
            "Epoch 5/50\n",
            "1035/1035 - 5s - loss: 2.5047 - accuracy: 0.2437 - val_loss: 2.4559 - val_accuracy: 0.2488\n",
            "Epoch 6/50\n",
            "1035/1035 - 5s - loss: 2.4845 - accuracy: 0.2488 - val_loss: 2.4380 - val_accuracy: 0.2545\n",
            "Epoch 7/50\n",
            "1035/1035 - 5s - loss: 2.4648 - accuracy: 0.2543 - val_loss: 2.4215 - val_accuracy: 0.2589\n",
            "Epoch 8/50\n",
            "1035/1035 - 5s - loss: 2.4511 - accuracy: 0.2572 - val_loss: 2.4063 - val_accuracy: 0.2666\n",
            "Epoch 9/50\n",
            "1035/1035 - 5s - loss: 2.4389 - accuracy: 0.2610 - val_loss: 2.3918 - val_accuracy: 0.2717\n",
            "Epoch 10/50\n",
            "1035/1035 - 5s - loss: 2.4259 - accuracy: 0.2659 - val_loss: 2.3810 - val_accuracy: 0.2721\n",
            "Epoch 11/50\n",
            "1035/1035 - 5s - loss: 2.4127 - accuracy: 0.2671 - val_loss: 2.3703 - val_accuracy: 0.2748\n",
            "Epoch 12/50\n",
            "1035/1035 - 5s - loss: 2.4035 - accuracy: 0.2698 - val_loss: 2.3617 - val_accuracy: 0.2807\n",
            "Epoch 13/50\n",
            "1035/1035 - 5s - loss: 2.3946 - accuracy: 0.2749 - val_loss: 2.3501 - val_accuracy: 0.2844\n",
            "Epoch 14/50\n",
            "1035/1035 - 5s - loss: 2.3838 - accuracy: 0.2765 - val_loss: 2.3420 - val_accuracy: 0.2895\n",
            "Epoch 15/50\n",
            "1035/1035 - 5s - loss: 2.3743 - accuracy: 0.2795 - val_loss: 2.3341 - val_accuracy: 0.2844\n",
            "Epoch 16/50\n",
            "1035/1035 - 5s - loss: 2.3668 - accuracy: 0.2815 - val_loss: 2.3252 - val_accuracy: 0.2881\n",
            "Epoch 17/50\n",
            "1035/1035 - 5s - loss: 2.3583 - accuracy: 0.2830 - val_loss: 2.3168 - val_accuracy: 0.2914\n",
            "Epoch 18/50\n",
            "1035/1035 - 5s - loss: 2.3541 - accuracy: 0.2847 - val_loss: 2.3119 - val_accuracy: 0.2959\n",
            "Epoch 19/50\n",
            "1035/1035 - 5s - loss: 2.3458 - accuracy: 0.2878 - val_loss: 2.3048 - val_accuracy: 0.2916\n",
            "Epoch 20/50\n",
            "1035/1035 - 5s - loss: 2.3385 - accuracy: 0.2883 - val_loss: 2.2989 - val_accuracy: 0.2966\n",
            "Epoch 21/50\n",
            "1035/1035 - 5s - loss: 2.3352 - accuracy: 0.2894 - val_loss: 2.2959 - val_accuracy: 0.2982\n",
            "Epoch 22/50\n",
            "1035/1035 - 5s - loss: 2.3291 - accuracy: 0.2924 - val_loss: 2.2887 - val_accuracy: 0.3008\n",
            "Epoch 23/50\n",
            "1035/1035 - 5s - loss: 2.3234 - accuracy: 0.2942 - val_loss: 2.2836 - val_accuracy: 0.2992\n",
            "Epoch 24/50\n",
            "1035/1035 - 5s - loss: 2.3184 - accuracy: 0.2933 - val_loss: 2.2837 - val_accuracy: 0.3034\n",
            "Epoch 25/50\n",
            "1035/1035 - 5s - loss: 2.3134 - accuracy: 0.2957 - val_loss: 2.2728 - val_accuracy: 0.3078\n",
            "Epoch 26/50\n",
            "1035/1035 - 5s - loss: 2.3078 - accuracy: 0.2976 - val_loss: 2.2713 - val_accuracy: 0.3071\n",
            "Epoch 27/50\n",
            "1035/1035 - 5s - loss: 2.3064 - accuracy: 0.2964 - val_loss: 2.2685 - val_accuracy: 0.3070\n",
            "Epoch 28/50\n",
            "1035/1035 - 5s - loss: 2.3024 - accuracy: 0.2983 - val_loss: 2.2649 - val_accuracy: 0.3077\n"
          ],
          "name": "stdout"
        }
      ]
    },
    {
      "cell_type": "code",
      "metadata": {
        "id": "CYz_XhGYQ-Du",
        "colab": {
          "base_uri": "https://localhost:8080/"
        },
        "outputId": "b0d9547d-fec2-48ed-dce8-eef81e3d8907"
      },
      "source": [
        ""
      ],
      "execution_count": 47,
      "outputs": [
        {
          "output_type": "stream",
          "text": [
            "WARNING:absl:Found untraced functions such as lstm_cell_1_layer_call_and_return_conditional_losses, lstm_cell_1_layer_call_fn, lstm_cell_1_layer_call_fn, lstm_cell_1_layer_call_and_return_conditional_losses, lstm_cell_1_layer_call_and_return_conditional_losses while saving (showing 5 of 5). These functions will not be directly callable after loading.\n"
          ],
          "name": "stderr"
        },
        {
          "output_type": "stream",
          "text": [
            "INFO:tensorflow:Assets written to: /content/superhero/saved_model/assets\n"
          ],
          "name": "stdout"
        },
        {
          "output_type": "stream",
          "text": [
            "INFO:tensorflow:Assets written to: /content/superhero/saved_model/assets\n"
          ],
          "name": "stderr"
        }
      ]
    },
    {
      "cell_type": "code",
      "metadata": {
        "colab": {
          "base_uri": "https://localhost:8080/"
        },
        "id": "dRKt-C5yHBpS",
        "outputId": "7340e9aa-947c-4f95-a6e2-3f736eb91bd7"
      },
      "source": [
        "from google.colab import drive\n",
        "drive.mount('/content/drive')"
      ],
      "execution_count": 48,
      "outputs": [
        {
          "output_type": "stream",
          "text": [
            "Mounted at /content/drive\n"
          ],
          "name": "stdout"
        }
      ]
    },
    {
      "cell_type": "code",
      "metadata": {
        "colab": {
          "base_uri": "https://localhost:8080/"
        },
        "id": "lnPGsRLiHWTW",
        "outputId": "c2667560-51f5-4423-d079-f602e1cfe162"
      },
      "source": [
        "!mkdir -p saved_model\n",
        "model.save('/content/drive/MyDrive/superhero/saved_model')"
      ],
      "execution_count": 49,
      "outputs": [
        {
          "output_type": "stream",
          "text": [
            "WARNING:absl:Found untraced functions such as lstm_cell_1_layer_call_and_return_conditional_losses, lstm_cell_1_layer_call_fn, lstm_cell_1_layer_call_fn, lstm_cell_1_layer_call_and_return_conditional_losses, lstm_cell_1_layer_call_and_return_conditional_losses while saving (showing 5 of 5). These functions will not be directly callable after loading.\n"
          ],
          "name": "stderr"
        },
        {
          "output_type": "stream",
          "text": [
            "INFO:tensorflow:Assets written to: /content/drive/MyDrive/superhero/saved_model/assets\n"
          ],
          "name": "stdout"
        },
        {
          "output_type": "stream",
          "text": [
            "INFO:tensorflow:Assets written to: /content/drive/MyDrive/superhero/saved_model/assets\n"
          ],
          "name": "stderr"
        }
      ]
    },
    {
      "cell_type": "code",
      "metadata": {
        "id": "RH-nNz5MIGJ_"
      },
      "source": [
        "model.save(\"/content/drive/MyDrive/superhero/trained_model.h5\")"
      ],
      "execution_count": 51,
      "outputs": []
    },
    {
      "cell_type": "markdown",
      "metadata": {
        "id": "_yS6fZ3tJkG9"
      },
      "source": [
        "## Task 8: Generate Names!"
      ]
    },
    {
      "cell_type": "code",
      "metadata": {
        "id": "pLbqaB7zQ74h"
      },
      "source": [
        "def generate_names(seed):\n",
        "  for i in range(0,40):\n",
        "    seq = name_to_seq(seed)\n",
        "    padded = tf.keras.preprocessing.sequence.pad_sequences([seq], padding='pre', \n",
        "                                                           maxlen=max_len-1,\n",
        "                                                           truncating='pre')\n",
        "    \n",
        "    pred = model.predict(padded)[0]\n",
        "    pred_char = index_to_char[tf.argmax(pred).numpy()]\n",
        "    seed +=pred_char\n",
        "\n",
        "    if pred_char == '\\t':\n",
        "      break\n",
        "  print(seed)"
      ],
      "execution_count": 23,
      "outputs": []
    },
    {
      "cell_type": "code",
      "metadata": {
        "colab": {
          "base_uri": "https://localhost:8080/"
        },
        "id": "9f50aTRcpt24",
        "outputId": "8f6ed7f8-03e9-4085-ed38-17d5c19f8be1"
      },
      "source": [
        "generate_names('rose t')"
      ],
      "execution_count": 24,
      "outputs": [
        {
          "output_type": "stream",
          "text": [
            "rose the senter\t\n"
          ],
          "name": "stdout"
        }
      ]
    },
    {
      "cell_type": "code",
      "metadata": {
        "id": "faQ0FInlpt26"
      },
      "source": [
        ""
      ],
      "execution_count": 24,
      "outputs": []
    }
  ]
}